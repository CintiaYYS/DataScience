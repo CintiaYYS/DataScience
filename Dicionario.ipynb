{
  "nbformat": 4,
  "nbformat_minor": 0,
  "metadata": {
    "colab": {
      "provenance": [],
      "authorship_tag": "ABX9TyOEJysdV1hlOMsX1DFvYGqq",
      "include_colab_link": true
    },
    "kernelspec": {
      "name": "python3",
      "display_name": "Python 3"
    },
    "language_info": {
      "name": "python"
    }
  },
  "cells": [
    {
      "cell_type": "markdown",
      "metadata": {
        "id": "view-in-github",
        "colab_type": "text"
      },
      "source": [
        "<a href=\"https://colab.research.google.com/github/CintiaYYS/DataScience/blob/main/Dicionario.ipynb\" target=\"_parent\"><img src=\"https://colab.research.google.com/assets/colab-badge.svg\" alt=\"Open In Colab\"/></a>"
      ]
    },
    {
      "cell_type": "markdown",
      "source": [
        "Notebook usado para estudo de estruturas em python e usado também para desenvolver funções para um projeto de data science"
      ],
      "metadata": {
        "id": "vAmhv70oiqVE"
      }
    },
    {
      "cell_type": "markdown",
      "source": [
        "#Entendendo o Dict"
      ],
      "metadata": {
        "id": "6HpufGcY5iAw"
      }
    },
    {
      "cell_type": "code",
      "source": [
        "dicionario = dict()\n",
        "\n",
        "dicionario = {\n",
        "    \"1\":2,\n",
        "    \"2\":6,\n",
        "    \"3\":0,\n",
        "    \"4\":2,\n",
        "    \"5\":1,\n",
        "}\n",
        "\n",
        "# print(dicionario)\n",
        "novo = {\n",
        "    \"6\":3\n",
        "}\n",
        "dicionario.update(novo)\n",
        "# print(dicionario)\n",
        "chave = \"9\"\n",
        "if chave in dicionario:\n",
        "  # print(\"Antes\",dicionario[chave])\n",
        "  dicionario[chave] += 1\n",
        "  # print(\"Depois\",dicionario[chave])\n",
        "\n",
        "else:\n",
        "  #  print(\"Chave não existe no dicionario\")\n",
        "   novo = {chave: 1}\n",
        "   dicionario.update(novo)\n",
        "\n",
        "dic_ordenado = sorted(dicionario.items(),key = lambda x:x[1])\n",
        "#print(type(dic_ordenado))\n",
        "\n",
        "dicionario2 = {\n",
        "    10:30,\n",
        "    17:15,\n",
        "    60:1,\n",
        "    51:19,\n",
        "}\n",
        "#print(type(dicionario2))\n",
        "dicionario2[10]\n"
      ],
      "metadata": {
        "colab": {
          "base_uri": "https://localhost:8080/"
        },
        "id": "FFsobvK-5kn6",
        "outputId": "6fb58ea9-eef1-478b-ec64-e19af5ce408c"
      },
      "execution_count": 1,
      "outputs": [
        {
          "output_type": "execute_result",
          "data": {
            "text/plain": [
              "30"
            ]
          },
          "metadata": {},
          "execution_count": 1
        }
      ]
    },
    {
      "cell_type": "markdown",
      "source": [
        "#Entendendo list\n"
      ],
      "metadata": {
        "id": "NYJ6ouB2REp7"
      }
    },
    {
      "cell_type": "code",
      "source": [
        "listaResultado = [\n",
        "  [10,317],[53,309],[5,297\n",
        "  ],\n",
        "  [\n",
        "    34,\n",
        "    291\n",
        "  ],\n",
        "  [\n",
        "    37,\n",
        "    291\n",
        "  ],\n",
        "  [\n",
        "    23,\n",
        "    290\n",
        "  ],\n",
        "  [\n",
        "    33,\n",
        "    290\n",
        "  ],\n",
        "  [\n",
        "    30,\n",
        "    289\n",
        "  ],\n",
        "  [\n",
        "    4,\n",
        "    288\n",
        "  ],\n",
        "  [\n",
        "    35,\n",
        "    288\n",
        "  ],\n",
        "  [\n",
        "    41,\n",
        "    288\n",
        "  ],\n",
        "  [\n",
        "    32,\n",
        "    287\n",
        "  ],\n",
        "  [\n",
        "    42,\n",
        "    287\n",
        "  ],\n",
        "  [\n",
        "    17,\n",
        "    285\n",
        "  ],\n",
        "  [\n",
        "    38,\n",
        "    284\n",
        "  ],\n",
        "  [\n",
        "    11,\n",
        "    283\n",
        "  ],\n",
        "  [\n",
        "    44,\n",
        "    283\n",
        "  ],\n",
        "  [\n",
        "    56,\n",
        "    283\n",
        "  ],\n",
        "  [\n",
        "    27,\n",
        "    282\n",
        "  ],\n",
        "  [\n",
        "    28,\n",
        "    282\n",
        "  ],\n",
        "  [\n",
        "    43,\n",
        "    281\n",
        "  ],\n",
        "  [\n",
        "    54,\n",
        "    281\n",
        "  ],\n",
        "  [\n",
        "    16,\n",
        "    280\n",
        "  ],\n",
        "  [\n",
        "    29,\n",
        "    280\n",
        "  ],\n",
        "  [\n",
        "    13,\n",
        "    279\n",
        "  ],\n",
        "  [\n",
        "    46,\n",
        "    276\n",
        "  ],\n",
        "  [\n",
        "    49,\n",
        "    276\n",
        "  ],\n",
        "  [\n",
        "    36,\n",
        "    275\n",
        "  ],\n",
        "  [\n",
        "    51,\n",
        "    275\n",
        "  ],\n",
        "  [\n",
        "    2,\n",
        "    271\n",
        "  ],\n",
        "  [\n",
        "    6,\n",
        "    271\n",
        "  ],\n",
        "  [\n",
        "    8,\n",
        "    271\n",
        "  ],\n",
        "  [\n",
        "    24,\n",
        "    270\n",
        "  ],\n",
        "  [\n",
        "    52,\n",
        "    270\n",
        "  ],\n",
        "  [\n",
        "    45,\n",
        "    267\n",
        "  ],\n",
        "  [\n",
        "    20,\n",
        "    266\n",
        "  ],\n",
        "  [\n",
        "    58,\n",
        "    265\n",
        "  ],\n",
        "  [\n",
        "    18,\n",
        "    263\n",
        "  ],\n",
        "  [\n",
        "    59,\n",
        "    262\n",
        "  ],\n",
        "  [\n",
        "    14,\n",
        "    261\n",
        "  ],\n",
        "  [\n",
        "    25,\n",
        "    261\n",
        "  ],\n",
        "  [\n",
        "    50,\n",
        "    261\n",
        "  ],\n",
        "  [\n",
        "    1,\n",
        "    259\n",
        "  ],\n",
        "  [\n",
        "    39,\n",
        "    259\n",
        "  ],\n",
        "  [\n",
        "    12,\n",
        "    258\n",
        "  ],\n",
        "  [\n",
        "    57,\n",
        "    258\n",
        "  ],\n",
        "  [\n",
        "    9,\n",
        "    257\n",
        "  ],\n",
        "  [\n",
        "    47,\n",
        "    257\n",
        "  ],\n",
        "  [\n",
        "    7,\n",
        "    256\n",
        "  ],\n",
        "  [\n",
        "    60,\n",
        "    256\n",
        "  ],\n",
        "  [\n",
        "    19,\n",
        "    254\n",
        "  ],\n",
        "  [\n",
        "    31,\n",
        "    254\n",
        "  ],\n",
        "  [\n",
        "    3,\n",
        "    253\n",
        "  ],\n",
        "  [\n",
        "    40,\n",
        "    253\n",
        "  ],\n",
        "  [\n",
        "    48,\n",
        "    250\n",
        "  ],\n",
        "  [\n",
        "    22,\n",
        "    245\n",
        "  ],\n",
        "  [\n",
        "    15,\n",
        "    234\n",
        "  ],\n",
        "  [\n",
        "    55,\n",
        "    229\n",
        "  ],\n",
        "  [\n",
        "    21,\n",
        "    227\n",
        "  ],\n",
        "  [\n",
        "    26,\n",
        "    227\n",
        "  ]\n",
        "]\n",
        "\n",
        "type(listaResultado)"
      ],
      "metadata": {
        "colab": {
          "base_uri": "https://localhost:8080/"
        },
        "id": "R-gmqLepRGWK",
        "outputId": "24729749-8d4c-4855-ff86-3ae3421b1cdd"
      },
      "execution_count": 2,
      "outputs": [
        {
          "output_type": "execute_result",
          "data": {
            "text/plain": [
              "list"
            ]
          },
          "metadata": {},
          "execution_count": 2
        }
      ]
    },
    {
      "cell_type": "markdown",
      "source": [
        "#Entendendo set: como comparar dois sets"
      ],
      "metadata": {
        "id": "UYmXDqGBCye5"
      }
    },
    {
      "cell_type": "code",
      "source": [
        "conjunto1 = {1,5,9,2,6,0,3,7,4,8}\n",
        "conjunto2 = {1,2,3,4,5,6,7,8,9,0}\n",
        "\n",
        "subconjunto = {2,3,4}\n",
        "\n",
        "t = set()\n",
        "print(type(t))\n",
        "if conjunto1 == conjunto2:\n",
        "  print(\"São iguais\")\n",
        "else: print(\"não são iguais\")\n",
        "\n",
        "if subconjunto.issubset(conjunto1):\n",
        "  print(\"é subconjunto\")\n",
        "else: print(\"não é subconjunto\")\n",
        "\n",
        "conjunto3 = {50,40,30,3,35,6,29,8,9}\n",
        "\n",
        "intersecao = conjunto3.intersection(conjunto2)\n",
        "print(intersecao)\n",
        "\n",
        "n=10\n",
        "conjunto1.add(10)\n",
        "if n in conjunto1:\n",
        "  print(n,\" está no conjunto1\")\n",
        "else: print(n,\" não está no conjunto1\")"
      ],
      "metadata": {
        "colab": {
          "base_uri": "https://localhost:8080/"
        },
        "id": "W_EHG-oaCxiM",
        "outputId": "67368ae7-3de6-48f2-c1d7-4da3e35d9a37"
      },
      "execution_count": 3,
      "outputs": [
        {
          "output_type": "stream",
          "name": "stdout",
          "text": [
            "<class 'set'>\n",
            "São iguais\n",
            "é subconjunto\n",
            "{8, 9, 3, 6}\n",
            "10  está no conjunto1\n"
          ]
        }
      ]
    },
    {
      "cell_type": "markdown",
      "source": [
        "#  carregar(filename): carrega o arquivo CSV, transformando em uma matriz. Declare a matriz como um atributo.\n"
      ],
      "metadata": {
        "id": "qIEvepFg8oS5"
      }
    },
    {
      "cell_type": "code",
      "source": [
        "import csv\n",
        "\n",
        "with open(\"megasena.csv\",'r') as dadoMega:\n",
        "  dados = list(csv.DictReader(dadoMega))\n",
        "\n",
        "matriz = []\n",
        "for linha in dados:\n",
        "    matriz.append(linha['concurso;data;n1;n2;n3;n4;n5;n6'].split(\";\"))\n"
      ],
      "metadata": {
        "id": "EVxDQ06W8zym"
      },
      "execution_count": 4,
      "outputs": []
    },
    {
      "cell_type": "markdown",
      "source": [
        "#getOcorrências(): Retorna uma lista de dicionário com a quantidade de vezes que cada número foi sorteado, cada item da lista deve conter o número e sua incidência e a lista deve estar ordenada do maior índice de sorteio ao menor índice;"
      ],
      "metadata": {
        "id": "PupcVFwBrviM"
      }
    },
    {
      "cell_type": "code",
      "source": [
        "#dicionario que irá armazenar cada ocorrencia do número\n",
        "dicionario = dict()\n",
        "\n",
        "#inicializar o dicionario com a chave : valor, sendo que as chaves são inteiros de 1 a 60 e os valores são a quantidade de ocorrências em sorteios\n",
        "dicionario.update({ chave+1:0 for chave in range(60)} )\n",
        "\n",
        "for linha in matriz:\n",
        "    i=2\n",
        "    while i < len(linha):\n",
        "      if linha[i] in dicionario:\n",
        "        dicionario[linha[i]] += 1\n",
        "      i+=1\n",
        "\n",
        "listaDicOrdenado = sorted(dicionario.items(),key=lambda x:x[1], reverse=True)\n"
      ],
      "metadata": {
        "id": "L0BJvyyu_Lds"
      },
      "execution_count": 5,
      "outputs": []
    },
    {
      "cell_type": "markdown",
      "source": [
        "#Conferir Jogo -> passando como parâmetro um jogo de pelo menos 6 números até 9 números,"
      ],
      "metadata": {
        "id": "lQRUgZPcquH_"
      }
    },
    {
      "cell_type": "code",
      "source": [
        "def nomePremiacao(acertos):\n",
        "  if acertos == 4:\n",
        "    premiacao = \"Quadra\"\n",
        "  elif acertos == 5:\n",
        "    premiacao = \"Quina\"\n",
        "  else: premiacao = \"Sena\"\n",
        "  return premiacao\n",
        "\n",
        "#1 - Cada jogo sorteado é um conjunto de números (set), assim, para cada linha da matriz, será gerado um conjunto com os números sorteados.\n",
        "  #1.1 - Para cada linha da matriz, gerar uma lista com o número do concurso, data e o set dos números sorteados.\n",
        "#2 - Em seguida, para cada conjunto de números sorteados, verificar se o jogo passado pelo usuário é um subconjunto de algum jogo já sorteado ou\n",
        "  # caso o usuário passe mais de 6 números, verificar se os conjuntos sorteados são subconjuntos dos números passados pelo usuário\n",
        "  # de forma simplificada: verificar qual o tamanho da interseção entre os dois conjuntos: conferir e sorteado\n",
        "\n",
        "matrizConjunto = []\n",
        "premiacoes = []\n",
        "\n",
        "for linha in matriz:\n",
        "  conj = {int(linha[2]),int(linha[3]),int(linha[4]),int(linha[5]),int(linha[6]),int(linha[7])}\n",
        "  matrizConjunto.append([linha[0],linha[1],conj])\n",
        "\n",
        "conferir = {4, 5, 38, 10, 43, 42, 51, 27}\n",
        "\n",
        "for sorteado in matrizConjunto:\n",
        "  acertos = conferir.intersection(sorteado[2])\n",
        "  if len(acertos) > 3:\n",
        "    premiacao = nomePremiacao(len(acertos))\n",
        "    premiacoes.append([premiacao,sorteado,acertos])\n",
        "\n",
        "for premios in premiacoes:\n",
        "  print(\"Ganhou com \"+premios[0]+\" \"+str(premios[2])+\" do dia \"+premios[1][1])\n",
        "\n",
        "if len(premiacoes) == 0:\n",
        "  print(\"Este jogo \"+str(conferir)+\" não foi sorteado ainda\")\n",
        "\n"
      ],
      "metadata": {
        "id": "E_GxVsZ8ipBP",
        "colab": {
          "base_uri": "https://localhost:8080/"
        },
        "outputId": "76feabb3-391c-4d50-989c-33571582bb46"
      },
      "execution_count": 6,
      "outputs": [
        {
          "output_type": "stream",
          "name": "stdout",
          "text": [
            "Ganhou com Quadra {42, 43, 5, 38} do dia 23/09/2023\n",
            "Ganhou com Quadra {10, 27, 5, 38} do dia 14/09/2023\n",
            "Ganhou com Quadra {27, 51, 4, 5} do dia 14/09/2011\n",
            "Ganhou com Quadra {27, 51, 4, 5} do dia 26/03/2011\n",
            "Ganhou com Quadra {27, 10, 51, 5} do dia 13/11/2004\n",
            "Ganhou com Quadra {42, 27, 4, 38} do dia 20/11/2002\n"
          ]
        }
      ]
    },
    {
      "cell_type": "markdown",
      "source": [
        "#sugerirJogo(): o método sugere na forma de string um jogo com 8 números. Os números sugeridos devem ser valores sorteados dentro do conjunto dos 30 números mais incidentes na história da megasena."
      ],
      "metadata": {
        "id": "LhhIfyyIpSbq"
      }
    },
    {
      "cell_type": "markdown",
      "source": [
        "#Entendendo a funcao choice()"
      ],
      "metadata": {
        "id": "Y7kvlhUxkfS3"
      }
    },
    {
      "cell_type": "code",
      "source": [
        "import random\n",
        "\n",
        "def sortear(listaNumeros, qtddNumero):\n",
        "  conjSorteadoAleatorio = set()\n",
        "  # listaNumerosTeste = [1,2,3,4,8,9,10,30,20,45,6,98]\n",
        "  i=0\n",
        "  # qtddNumero = 8\n",
        "  while i < qtddNumero:\n",
        "    nSorteado = random.choice(listaNumeros)\n",
        "    if not nSorteado in conjSorteadoAleatorio:\n",
        "      conjSorteadoAleatorio.add(nSorteado)\n",
        "      i+=1\n",
        "  return conjSorteadoAleatorio"
      ],
      "metadata": {
        "id": "ZbTzxDOxqkuu"
      },
      "execution_count": 7,
      "outputs": []
    },
    {
      "cell_type": "code",
      "source": [
        "numMaisSorteados = []\n",
        "\n",
        "for n in range(30):\n",
        "  numMaisSorteados.append(listaDicOrdenado[n][0])\n",
        "\n",
        "sugestao = sortear(numMaisSorteados,8)\n",
        "print(\"Mais sorteados:\")\n",
        "print(numMaisSorteados)\n",
        "print(\"Sugestão: \",sugestao)"
      ],
      "metadata": {
        "id": "gNSkCmh2m1CO",
        "colab": {
          "base_uri": "https://localhost:8080/"
        },
        "outputId": "6ffd961d-5abc-45d3-82d4-0658ef03228b"
      },
      "execution_count": 8,
      "outputs": [
        {
          "output_type": "stream",
          "name": "stdout",
          "text": [
            "Mais sorteados:\n",
            "[1, 2, 3, 4, 5, 6, 7, 8, 9, 10, 11, 12, 13, 14, 15, 16, 17, 18, 19, 20, 21, 22, 23, 24, 25, 26, 27, 28, 29, 30]\n",
            "Sugestão:  {1, 2, 4, 7, 18, 25, 29, 30}\n"
          ]
        }
      ]
    },
    {
      "cell_type": "code",
      "source": [],
      "metadata": {
        "id": "Yxg3MTajeHG6"
      },
      "execution_count": 8,
      "outputs": []
    }
  ]
}